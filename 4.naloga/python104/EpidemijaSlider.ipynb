{
 "cells": [
  {
   "cell_type": "code",
   "execution_count": 1,
   "metadata": {},
   "outputs": [],
   "source": [
    "import numpy as np\n",
    "import matplotlib.pyplot as plt\n",
    "from scipy.integrate import solve_ivp\n",
    "from ipywidgets import interact, FloatSlider"
   ]
  },
  {
   "cell_type": "code",
   "execution_count": 2,
   "metadata": {},
   "outputs": [
    {
     "data": {
      "application/vnd.jupyter.widget-view+json": {
       "model_id": "a7ad5441d9f6464e8c315ebbba0fb709",
       "version_major": 2,
       "version_minor": 0
      },
      "text/plain": [
       "interactive(children=(FloatSlider(value=0.5, description='Alpha:', max=1.0, step=0.01), FloatSlider(value=0.2,…"
      ]
     },
     "metadata": {},
     "output_type": "display_data"
    },
    {
     "data": {
      "text/plain": [
       "<function __main__.update_plot(alpha=0.5, beta=0.2, initial_B=0.1, initial_I=0.0)>"
      ]
     },
     "execution_count": 2,
     "metadata": {},
     "output_type": "execute_result"
    }
   ],
   "source": [
    "# Constants\n",
    "alpha = 0.5  # Initial alpha value\n",
    "beta = 0.2  # Initial beta value\n",
    "initial_D = 0.9\n",
    "initial_B = 0.1\n",
    "initial_I = 0.0\n",
    "\n",
    "def update_plot(alpha=alpha, beta=beta, initial_B=initial_B, initial_I=initial_I):\n",
    "    # Ensure the sum of initial_D, initial_B, and initial_I is 1\n",
    "    total = 1 - initial_I\n",
    "    initial_D = total - initial_B\n",
    "\n",
    "    def f(t, y):\n",
    "        D, B, I = y  # Unpack the state variables\n",
    "\n",
    "        # Compute the derivatives\n",
    "        dDdt = -alpha * D * B\n",
    "        dBdt = alpha * D * B - beta * B\n",
    "        dIdt = beta * B\n",
    "\n",
    "        return [dDdt, dBdt, dIdt]  # Return the derivatives as a list\n",
    "\n",
    "    # Initial values and desired time span\n",
    "    t_initial = 0.\n",
    "    t_final = 50.\n",
    "    num_points = 100\n",
    "    ts = np.linspace(t_initial, t_final, num_points)\n",
    "\n",
    "    # Initial conditions\n",
    "    y0 = [initial_D, initial_B, initial_I]  # Initial values\n",
    "\n",
    "    # Time span\n",
    "    t_span = (t_initial, t_final)  # Time span\n",
    "\n",
    "    # Solve the differential equations\n",
    "    solution = solve_ivp(f, t_span, y0, t_eval=ts, method='RK45')\n",
    "\n",
    "    # The solution is in solution.y\n",
    "    D_solution, B_solution, I_solution = solution.y\n",
    "\n",
    "    # Plot the solutions\n",
    "    fig = plt.figure(figsize=(10,6))\n",
    "    ax = fig.add_subplot(111)\n",
    "    ax.grid()\n",
    "    ax.set_title('Potek epidemije za ' + r'$\\alpha=$' + f'{alpha} in ' + r'$\\beta=$' + f'{beta}')\n",
    "    ax.set_ylabel('% Populacije')\n",
    "    ax.set_xlabel('t')\n",
    "    ax.set_ylim(-0.05, 1.05)\n",
    "    ax.plot(ts, D_solution, label='Dovzetni')\n",
    "    ax.plot(ts, B_solution, label='Bolni')\n",
    "    ax.plot(ts, I_solution, label='Imuni')\n",
    "    ax.legend()\n",
    "\n",
    "# Create sliders for alpha, beta, initial_D, initial_B, and initial_I\n",
    "alpha_slider = FloatSlider(value=alpha, min=0.0, max=1.0, step=0.01, description='Alpha:')\n",
    "beta_slider = FloatSlider(value=beta, min=0.0, max=1.0, step=0.01, description='Beta:')\n",
    "initial_B_slider = FloatSlider(value=initial_B, min=0.0, max=1.0, step=0.01, description='Initial B:')\n",
    "initial_I_slider = FloatSlider(value=initial_I, min=0.0, max=1.0, step=0.01, description='Initial I:')\n",
    "\n",
    "# Create an interactive plot\n",
    "interact(update_plot, alpha=alpha_slider, beta=beta_slider, initial_B=initial_B_slider, initial_I=initial_I_slider)\n"
   ]
  }
 ],
 "metadata": {
  "kernelspec": {
   "display_name": "Python 3",
   "language": "python",
   "name": "python3"
  },
  "language_info": {
   "codemirror_mode": {
    "name": "ipython",
    "version": 3
   },
   "file_extension": ".py",
   "mimetype": "text/x-python",
   "name": "python",
   "nbconvert_exporter": "python",
   "pygments_lexer": "ipython3",
   "version": "3.9.0"
  }
 },
 "nbformat": 4,
 "nbformat_minor": 2
}
